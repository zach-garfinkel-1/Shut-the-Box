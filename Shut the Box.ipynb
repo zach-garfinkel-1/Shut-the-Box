{
 "cells": [
  {
   "cell_type": "markdown",
   "metadata": {},
   "source": [
    "# \"Shut the Box\" Game"
   ]
  },
  {
   "cell_type": "markdown",
   "metadata": {},
   "source": [
    "### Imports"
   ]
  },
  {
   "cell_type": "code",
   "execution_count": 3,
   "metadata": {
    "ExecuteTime": {
     "end_time": "2020-07-06T20:38:50.756827Z",
     "start_time": "2020-07-06T20:38:47.374740Z"
    }
   },
   "outputs": [],
   "source": [
    "from datascience import *\n",
    "import matplotlib.pyplot as plots\n",
    "import matplotlib\n",
    "matplotlib.use('Agg', warn=False)\n",
    "%matplotlib inline\n",
    "plots.style.use('fivethirtyeight')\n",
    "import numpy as np\n",
    "import math"
   ]
  },
  {
   "cell_type": "markdown",
   "metadata": {},
   "source": [
    "## How the game works\n",
    "\n",
    "- There is a box with 9 dominoes, numbered 1 to 9\n",
    "- You roll dice two at a time to get a number, and you have to knock down dominoes that add up to that number\n",
    "    - e.g. 9, you can put down a 9, or put down a 5 and a 4, an 8 and a 1, etc. \n",
    "- You must roll both dice unless the total sum of the dominoes remaining up is less than or equal to 6, when you can roll just 1\n",
    "- To win, you must knock down all the dominoes\n",
    "    - Another way to play is to try to get the lowest \"score\" possible\n",
    "    - Your score is the sum of the remaining dominoes standing when you lose\n"
   ]
  },
  {
   "cell_type": "markdown",
   "metadata": {},
   "source": [
    "- It is not as easy as it sounds, and we will find that your chance of winning is very low\n",
    "- For example, if only the 5 remains, you must roll exactly that, a 1/6 chance of surviving just on that roll"
   ]
  },
  {
   "cell_type": "code",
   "execution_count": 16,
   "metadata": {
    "ExecuteTime": {
     "end_time": "2020-07-06T20:46:54.203285Z",
     "start_time": "2020-07-06T20:46:54.196290Z"
    }
   },
   "outputs": [],
   "source": [
    "# A FUNCTION TO ROLL DICE FOR US\n",
    "\n",
    "def shutter_rolls(number):\n",
    "    '''simulates n rolls'''\n",
    "    rolls = make_array()\n",
    "    for i in np.arange(number):\n",
    "        roll_one = np.random.choice(np.arange(1,7))\n",
    "        roll_two = np.random.choice(np.arange(1,7))\n",
    "        roll = roll_one + roll_two\n",
    "        rolls = np.append(rolls,roll)\n",
    "    rolls_table = Table().with_column('Roll', rolls)\n",
    "    return rolls_table"
   ]
  },
  {
   "cell_type": "code",
   "execution_count": 17,
   "metadata": {
    "ExecuteTime": {
     "end_time": "2020-07-06T20:46:54.897695Z",
     "start_time": "2020-07-06T20:46:54.433051Z"
    }
   },
   "outputs": [
    {
     "data": {
      "text/html": [
       "<table border=\"1\" class=\"dataframe\">\n",
       "    <thead>\n",
       "        <tr>\n",
       "            <th>Roll</th> <th>count</th>\n",
       "        </tr>\n",
       "    </thead>\n",
       "    <tbody>\n",
       "        <tr>\n",
       "            <td>2   </td> <td>277  </td>\n",
       "        </tr>\n",
       "        <tr>\n",
       "            <td>3   </td> <td>545  </td>\n",
       "        </tr>\n",
       "        <tr>\n",
       "            <td>4   </td> <td>822  </td>\n",
       "        </tr>\n",
       "    </tbody>\n",
       "</table>\n",
       "<p>... (8 rows omitted)</p>"
      ],
      "text/plain": [
       "<IPython.core.display.HTML object>"
      ]
     },
     "metadata": {},
     "output_type": "display_data"
    }
   ],
   "source": [
    "# MAKE TABLE OF DISTRIBUTION\n",
    "\n",
    "total_rolls = shutter_rolls(10000)\n",
    "grouped_rolls = total_rolls.group('Roll')\n",
    "grouped_rolls.show(3)"
   ]
  },
  {
   "cell_type": "code",
   "execution_count": 18,
   "metadata": {
    "ExecuteTime": {
     "end_time": "2020-07-06T20:46:55.247373Z",
     "start_time": "2020-07-06T20:46:54.970189Z"
    }
   },
   "outputs": [
    {
     "data": {
      "image/png": "[encoded data removed]",
      "text/plain": [
       "<Figure size 432x288 with 1 Axes>"
      ]
     },
     "metadata": {},
     "output_type": "display_data"
    }
   ],
   "source": [
    "# GRAPH DISTRIBUTION OF DICE ROLLS\n",
    "\n",
    "grouped_rolls.bar('Roll')"
   ]
  },
  {
   "cell_type": "code",
   "execution_count": 19,
   "metadata": {
    "ExecuteTime": {
     "end_time": "2020-07-06T20:46:57.118649Z",
     "start_time": "2020-07-06T20:46:57.114172Z"
    }
   },
   "outputs": [],
   "source": [
    "#DEFINING THE BOX FOR THE GAME\n",
    "\n",
    "shut_box = [1,2,3,4,5,6,7,8,9]"
   ]
  },
  {
   "cell_type": "code",
   "execution_count": 20,
   "metadata": {
    "ExecuteTime": {
     "end_time": "2020-07-06T20:47:26.213656Z",
     "start_time": "2020-07-06T20:47:26.208275Z"
    }
   },
   "outputs": [],
   "source": [
    "# WE WILL CALL IT \"FULL\"\n",
    "\n",
    "full = [1,2,3,4,5,6,7,8,9]"
   ]
  },
  {
   "cell_type": "markdown",
   "metadata": {},
   "source": [
    "## Playing the Game\n",
    "\n",
    "- The game is mainly luck\n",
    "- But there are actually a good amount of decisions to make\n",
    "- Instead of making an AI that \"learns\", I gave the program explicit, brute force instructions"
   ]
  },
  {
   "cell_type": "code",
   "execution_count": 26,
   "metadata": {
    "ExecuteTime": {
     "end_time": "2020-07-06T20:50:34.796322Z",
     "start_time": "2020-07-06T20:50:34.765793Z"
    }
   },
   "outputs": [],
   "source": [
    "#FUNCTION TO FIND THE BEST ROLL\n",
    "\n",
    "def best_roll(box):\n",
    "    \n",
    "    '''finds the best roll given the current state of any box, returns box after roll'''\n",
    "    \n",
    "    biggest = max(box)\n",
    "    smallest = min(box)\n",
    "    \n",
    "    if sum(box) > 6:\n",
    "        roll = np.random.choice(np.arange(1,7)) + np.random.choice(np.arange(1,7)) \n",
    "        \n",
    "    else:\n",
    "        roll = np.random.choice(np.arange(1,7))\n",
    "        \n",
    "    \n",
    "    if roll in box:\n",
    "        box.remove(roll)\n",
    "        if sum(box) == 0:\n",
    "            return 'Win'\n",
    "        else:\n",
    "            return box\n",
    "    \n",
    "    elif roll == sum(box):\n",
    "        return 'Win'\n",
    "        \n",
    "    elif roll >= biggest:\n",
    "        if roll - biggest in box and roll-biggest != biggest:\n",
    "            box.remove(roll - biggest)\n",
    "            if biggest in box:\n",
    "                box.remove(biggest)\n",
    "                if sum(box) == 0:\n",
    "                    return 'Win'\n",
    "                else:\n",
    "                    return box\n",
    "            else:\n",
    "                return 'Lose'\n",
    "        elif roll - 1 in box and 1 in box and roll-1 != 1:\n",
    "                    box.remove(roll - 1)\n",
    "                    box.remove(1)\n",
    "                    if sum(box) == 0:\n",
    "                        return 'Win'\n",
    "                    else:\n",
    "                        return box\n",
    "        elif roll - 2 in box and 2 in box and roll-2 != 2:\n",
    "                    box.remove(roll - 2)\n",
    "                    box.remove(2)\n",
    "                    if sum(box) == 0:\n",
    "                        return 'Win'\n",
    "                    else:\n",
    "                        return box\n",
    "        elif roll - 3 in box and 3 in box and roll-3 != 3:\n",
    "                    box.remove(roll - 3)\n",
    "                    box.remove(3)\n",
    "                    if sum(box) == 0:\n",
    "                        return 'Win'\n",
    "                    else:\n",
    "                        return box\n",
    "        elif roll - 4 in box and 4 in box and roll-4 != 4:\n",
    "                    box.remove(roll - 4)\n",
    "                    box.remove(4)\n",
    "                    if sum(box) == 0:\n",
    "                        return 'Win'\n",
    "                    else:\n",
    "                        return box\n",
    "        elif roll - 5 in box and 5 in box and roll-5 != 5:\n",
    "                    box.remove(roll - 5)\n",
    "                    box.remove(5)\n",
    "                    if sum(box) == 0:\n",
    "                        return 'Win'\n",
    "                    else:\n",
    "                        return box\n",
    "        elif roll - 6 in box and 6 in box and roll-6 != 6:\n",
    "                    box.remove(roll - 6)\n",
    "                    box.remove(6)\n",
    "                    if sum(box) == 0:\n",
    "                        return 'Win'\n",
    "                    else:\n",
    "                        return box\n",
    "    \n",
    "        else:\n",
    "            return 'Lose'\n",
    "\n",
    "    else:\n",
    "        if roll - 1 in box and 1 in box and roll-1 != 1:\n",
    "                    box.remove(roll - 1)\n",
    "                    box.remove(1)\n",
    "                    if sum(box) == 0:\n",
    "                        return 'Win'\n",
    "                    else:\n",
    "                        return box\n",
    "        elif roll - 2 in box and 2 in box and roll-2 != 2:\n",
    "                    box.remove(roll - 2)\n",
    "                    box.remove(2)\n",
    "                    if sum(box) == 0:\n",
    "                        return 'Win'\n",
    "                    else:\n",
    "                        return box\n",
    "        elif roll - 3 in box and 3 in box and roll-3 != 3:\n",
    "                    box.remove(roll - 3)\n",
    "                    box.remove(3)\n",
    "                    if sum(box) == 0:\n",
    "                        return 'Win'\n",
    "                    else:\n",
    "                        return box\n",
    "        elif roll - 4 in box and 4 in box and roll-4 != 4:\n",
    "                    box.remove(roll - 4)\n",
    "                    box.remove(4)\n",
    "                    if sum(box) == 0:\n",
    "                        return 'Win'\n",
    "                    else:\n",
    "                        return box\n",
    "        elif roll - 5 in box and 5 in box and roll-5 != 5:\n",
    "                    box.remove(roll - 5)\n",
    "                    box.remove(5)\n",
    "                    if sum(box) == 0:\n",
    "                        return 'Win'\n",
    "                    else:\n",
    "                        return box\n",
    "        elif roll - 6 in box and 6 in box and roll-6 != 6:\n",
    "                    box.remove(roll - 6)\n",
    "                    box.remove(6)\n",
    "                    if sum(box) == 0:\n",
    "                        return 'Win'\n",
    "                    else:\n",
    "                        return box\n",
    "    \n",
    "        else:\n",
    "            return 'Lose'"
   ]
  },
  {
   "cell_type": "code",
   "execution_count": 29,
   "metadata": {
    "ExecuteTime": {
     "end_time": "2020-07-06T20:52:56.845294Z",
     "start_time": "2020-07-06T20:52:56.830172Z"
    }
   },
   "outputs": [],
   "source": [
    "def play_game():\n",
    "    \n",
    "    '''Plays a game of Shut the Box, repeating the best roll function until a result is achieved'''\n",
    "    '''Returns \"Win\" or \"Lose\" and the state of the box before and after each roll'''\n",
    "    \n",
    "    box = [1,2,3,4,5,6,7,8,9]\n",
    "    \n",
    "    first_roll = best_roll(box)\n",
    "    print(first_roll)\n",
    "    \n",
    "    second_roll = best_roll(first_roll)\n",
    "    print(second_roll)\n",
    "    \n",
    "    if second_roll == 'Lose':\n",
    "        return 'Lose'\n",
    "    elif second_roll == 'Win':\n",
    "        return 'Win'\n",
    "    else:\n",
    "        third_roll = best_roll(second_roll)\n",
    "        print(third_roll)\n",
    "    \n",
    "        if third_roll == 'Lose':\n",
    "            return 'Lose'\n",
    "        elif third_roll == 'Win':\n",
    "            return 'Win'\n",
    "        else:\n",
    "            fourth_roll = best_roll(third_roll)\n",
    "            print(fourth_roll)\n",
    "        \n",
    "            if fourth_roll == 'Lose':\n",
    "                return 'Lose'\n",
    "            elif fourth_roll == 'Win':\n",
    "                return 'Win'\n",
    "            else:\n",
    "                fifth_roll = best_roll(fourth_roll)\n",
    "                print(fifth_roll)\n",
    "        \n",
    "                if fifth_roll == 'Lose':\n",
    "                    return 'Lose'\n",
    "                elif fifth_roll == 'Win':\n",
    "                    return 'Win'\n",
    "                else:\n",
    "                    sixth_roll = best_roll(fifth_roll)\n",
    "                    print(sixth_roll)\n",
    "        \n",
    "                    if sixth_roll == 'Lose':\n",
    "                        return 'Lose'\n",
    "                    elif sixth_roll == 'Win':\n",
    "                        return 'Win'\n",
    "                    else:\n",
    "                        seventh_roll = best_roll(sixth_roll)\n",
    "                        print(seventh_roll)\n",
    "                \n",
    "                        if seventh_roll == 'Lose':\n",
    "                            return 'Lose'\n",
    "                        elif seventh_roll == 'Win':\n",
    "                            return 'Win'\n",
    "                        else: \n",
    "                            eighth_roll = best_roll(seventh_roll)\n",
    "                            print(eighth_roll)\n",
    "                        \n",
    "                            if eighth_roll == 'Lose':\n",
    "                                return 'Lose'\n",
    "                            elif eighth_roll == 'Win':\n",
    "                                return 'Win'\n",
    "                            else:\n",
    "                                ninth_roll = best_roll(eighth_roll)\n",
    "                                print(ninth_roll)"
   ]
  },
  {
   "cell_type": "code",
   "execution_count": 30,
   "metadata": {
    "ExecuteTime": {
     "end_time": "2020-07-06T20:53:15.010992Z",
     "start_time": "2020-07-06T20:53:14.997241Z"
    }
   },
   "outputs": [],
   "source": [
    "def get_result():\n",
    "    \n",
    "    '''Same function as before, but only prints \"Win or Lose\" '''\n",
    "    \n",
    "    box = [1,2,3,4,5,6,7,8,9]\n",
    "    \n",
    "    first_roll = best_roll(box)\n",
    "    \n",
    "    \n",
    "    second_roll = best_roll(first_roll)\n",
    "    \n",
    "    \n",
    "    if second_roll == 'Lose':\n",
    "        return 'Lose'\n",
    "    elif second_roll == 'Win':\n",
    "        return 'Win'\n",
    "    else:\n",
    "        third_roll = best_roll(second_roll)\n",
    "    \n",
    "        if third_roll == 'Lose':\n",
    "            return 'Lose'\n",
    "        elif third_roll == 'Win':\n",
    "            return 'Win'\n",
    "        else:\n",
    "            fourth_roll = best_roll(third_roll)\n",
    "        \n",
    "    \n",
    "            if fourth_roll == 'Lose':\n",
    "                return 'Lose'\n",
    "            elif fourth_roll == 'Win':\n",
    "                return 'Win'\n",
    "            else:\n",
    "                fifth_roll = best_roll(fourth_roll)\n",
    "           \n",
    "        \n",
    "                if fifth_roll == 'Lose':\n",
    "                    return 'Lose'\n",
    "                elif fifth_roll == 'Win':\n",
    "                    return 'Win'\n",
    "                else:\n",
    "                    sixth_roll = best_roll(fifth_roll)\n",
    "               \n",
    "        \n",
    "                    if sixth_roll == 'Lose':\n",
    "                        return 'Lose'\n",
    "                    elif sixth_roll == 'Win':\n",
    "                        return 'Win'\n",
    "                    else:\n",
    "                        seventh_roll = best_roll(sixth_roll)\n",
    "                    \n",
    "                \n",
    "                        if seventh_roll == 'Lose':\n",
    "                            return 'Lose'\n",
    "                        elif seventh_roll == 'Win':\n",
    "                            return 'Win'\n",
    "                        else: \n",
    "                            eighth_roll = best_roll(seventh_roll)\n",
    "                        \n",
    "                        \n",
    "                            if eighth_roll == 'Lose':\n",
    "                                return 'Lose'\n",
    "                            elif eighth_roll == 'Win':\n",
    "                                return 'Win'\n",
    "                            else:\n",
    "                                ninth_roll = best_roll(eighth_roll)\n",
    "                                \n",
    "                                if ninth_roll == 'Lose':\n",
    "                                    return 'Lose'\n",
    "                                elif ninth_roll == 'Win':\n",
    "                                    return 'Win'"
   ]
  },
  {
   "cell_type": "code",
   "execution_count": 31,
   "metadata": {
    "ExecuteTime": {
     "end_time": "2020-07-06T20:54:02.981203Z",
     "start_time": "2020-07-06T20:54:02.964887Z"
    }
   },
   "outputs": [],
   "source": [
    "def get_score():\n",
    "    \n",
    "    '''This function returns the sum of the dominoes remaining after a loss, or 0 if a win'''\n",
    "    \n",
    "    box = [1,2,3,4,5,6,7,8,9]\n",
    "    \n",
    "    first_roll = best_roll(box)\n",
    "    \n",
    "    \n",
    "    second_roll = best_roll(first_roll)\n",
    "    \n",
    "    \n",
    "    if second_roll == 'Lose':\n",
    "        return sum(first_roll)\n",
    "    elif second_roll == 'Win':\n",
    "        return sum(box)\n",
    "    else:\n",
    "        third_roll = best_roll(second_roll)\n",
    "    \n",
    "        if third_roll == 'Lose':\n",
    "            return sum(second_roll)\n",
    "        elif third_roll == 'Win':\n",
    "            return sum(box)\n",
    "        else:\n",
    "            fourth_roll = best_roll(third_roll)\n",
    "        \n",
    "    \n",
    "            if fourth_roll == 'Lose':\n",
    "                return sum(third_roll)\n",
    "            elif fourth_roll == 'Win':\n",
    "                return sum(box)\n",
    "            else:\n",
    "                fifth_roll = best_roll(fourth_roll)\n",
    "           \n",
    "        \n",
    "                if fifth_roll == 'Lose':\n",
    "                    return sum(fourth_roll)\n",
    "                elif fifth_roll == 'Win':\n",
    "                    return 0\n",
    "                else:\n",
    "                    sixth_roll = best_roll(fifth_roll)\n",
    "               \n",
    "        \n",
    "                    if sixth_roll == 'Lose':\n",
    "                        return sum(fifth_roll)\n",
    "                    elif sixth_roll == 'Win':\n",
    "                        return 0\n",
    "                    else:\n",
    "                        seventh_roll = best_roll(sixth_roll)\n",
    "                    \n",
    "                \n",
    "                        if seventh_roll == 'Lose':\n",
    "                            return sum(sixth_roll)\n",
    "                        elif seventh_roll == 'Win':\n",
    "                            return 0\n",
    "                        else: \n",
    "                            eighth_roll = best_roll(seventh_roll)\n",
    "                        \n",
    "                        \n",
    "                            if eighth_roll == 'Lose':\n",
    "                                return sum(seventh_roll)\n",
    "                            elif eighth_roll == 'Win':\n",
    "                                return 0\n",
    "                            else:\n",
    "                                ninth_roll = best_roll(eighth_roll)\n",
    "                                \n",
    "                                if ninth_roll == 'Lose':\n",
    "                                    return sum(eighth_roll)\n",
    "                                elif ninth_roll == 'Win':\n",
    "                                    return sum(box)"
   ]
  },
  {
   "cell_type": "code",
   "execution_count": 44,
   "metadata": {
    "ExecuteTime": {
     "end_time": "2020-07-06T21:00:07.718294Z",
     "start_time": "2020-07-06T21:00:07.702258Z"
    }
   },
   "outputs": [],
   "source": [
    "def play_game_and_get_score():\n",
    "    \n",
    "    '''This function plays the game, returning \"win\" or \"lose\" and giving the score'''\n",
    "    \n",
    "    box = [1,2,3,4,5,6,7,8,9]\n",
    "    \n",
    "    first_roll = best_roll(box)\n",
    "    #print(first_roll)\n",
    "    \n",
    "    second_roll = best_roll(first_roll)\n",
    "    #print(second_roll)\n",
    "    \n",
    "    if second_roll == 'Lose':\n",
    "        return sum(first_roll), 'Lose'\n",
    "    elif second_roll == 'Win':\n",
    "        return 0, 'Win'\n",
    "    else:\n",
    "        third_roll = best_roll(second_roll)\n",
    "        #print(third_roll)\n",
    "    \n",
    "        if third_roll == 'Lose':\n",
    "            return sum(second_roll), 'Lose'\n",
    "        elif third_roll == 'Win':\n",
    "            return 0, 'Win'\n",
    "        else:\n",
    "            fourth_roll = best_roll(third_roll)\n",
    "            #print(fourth_roll)\n",
    "        \n",
    "            if fourth_roll == 'Lose':\n",
    "                return sum(third_roll), 'Lose'\n",
    "            elif fourth_roll == 'Win':\n",
    "                return 0, 'Win'\n",
    "            else:\n",
    "                fifth_roll = best_roll(fourth_roll)\n",
    "                #print(fifth_roll)\n",
    "        \n",
    "                if fifth_roll == 'Lose':\n",
    "                    return sum(fourth_roll), 'Lose'\n",
    "                elif fifth_roll == 'Win':\n",
    "                    return 0, 'Win'\n",
    "                else:\n",
    "                    sixth_roll = best_roll(fifth_roll)\n",
    "                    #print(sixth_roll)\n",
    "        \n",
    "                    if sixth_roll == 'Lose':\n",
    "                        return sum(fifth_roll), 'Lose'\n",
    "                    elif sixth_roll == 'Win':\n",
    "                        return 0, 'Win'\n",
    "                    else:\n",
    "                        seventh_roll = best_roll(sixth_roll)\n",
    "                        #print(seventh_roll)\n",
    "                \n",
    "                        if seventh_roll == 'Lose':\n",
    "                            return sum(sixth_roll), 'Lose'\n",
    "                        elif seventh_roll == 'Win':\n",
    "                            return 0, 'Win'\n",
    "                        else: \n",
    "                            eighth_roll = best_roll(seventh_roll)\n",
    "                            #print(eighth_roll)\n",
    "                        \n",
    "                            if eighth_roll == 'Lose':\n",
    "                                return sum(seventh_roll), 'Lose'\n",
    "                            elif eighth_roll == 'Win':\n",
    "                                return 0, 'Win'\n",
    "                            else:\n",
    "                                ninth_roll = best_roll(eighth_roll)\n",
    "                                #print(ninth_roll)\n",
    "                                \n",
    "                                if ninth_roll == 'Lose':\n",
    "                                    return sum(eighth_roll), 'Lose'\n",
    "                                elif ninth_roll == 'Win':\n",
    "                                    return 0, 'Win'"
   ]
  },
  {
   "cell_type": "code",
   "execution_count": 32,
   "metadata": {
    "ExecuteTime": {
     "end_time": "2020-07-06T20:54:12.930234Z",
     "start_time": "2020-07-06T20:54:12.922326Z"
    },
    "scrolled": true
   },
   "outputs": [
    {
     "data": {
      "text/plain": [
       "[3, 4, 5, 6, 7, 8]"
      ]
     },
     "execution_count": 32,
     "metadata": {},
     "output_type": "execute_result"
    }
   ],
   "source": [
    "best_roll(full)"
   ]
  },
  {
   "cell_type": "code",
   "execution_count": 33,
   "metadata": {
    "ExecuteTime": {
     "end_time": "2020-07-06T20:54:18.978469Z",
     "start_time": "2020-07-06T20:54:18.967128Z"
    }
   },
   "outputs": [
    {
     "name": "stdout",
     "output_type": "stream",
     "text": [
      "[2, 3, 4, 5, 6, 7, 8]\n",
      "[2, 3, 4, 5, 7, 8]\n",
      "[2, 3, 5, 7, 8]\n",
      "[2, 3, 7, 8]\n",
      "[7, 8]\n",
      "Lose\n"
     ]
    },
    {
     "data": {
      "text/plain": [
       "'Lose'"
      ]
     },
     "execution_count": 33,
     "metadata": {},
     "output_type": "execute_result"
    }
   ],
   "source": [
    "play_game()"
   ]
  },
  {
   "cell_type": "code",
   "execution_count": 34,
   "metadata": {
    "ExecuteTime": {
     "end_time": "2020-07-06T20:54:20.519476Z",
     "start_time": "2020-07-06T20:54:20.512948Z"
    }
   },
   "outputs": [
    {
     "data": {
      "text/plain": [
       "20"
      ]
     },
     "execution_count": 34,
     "metadata": {},
     "output_type": "execute_result"
    }
   ],
   "source": [
    "get_score()"
   ]
  },
  {
   "cell_type": "code",
   "execution_count": 35,
   "metadata": {
    "ExecuteTime": {
     "end_time": "2020-07-06T20:54:21.468381Z",
     "start_time": "2020-07-06T20:54:21.462421Z"
    }
   },
   "outputs": [
    {
     "data": {
      "text/plain": [
       "'Lose'"
      ]
     },
     "execution_count": 35,
     "metadata": {},
     "output_type": "execute_result"
    }
   ],
   "source": [
    "get_result()"
   ]
  },
  {
   "cell_type": "code",
   "execution_count": 45,
   "metadata": {
    "ExecuteTime": {
     "end_time": "2020-07-06T21:00:31.921693Z",
     "start_time": "2020-07-06T21:00:31.914826Z"
    }
   },
   "outputs": [
    {
     "data": {
      "text/plain": [
       "(3, 'Lose')"
      ]
     },
     "execution_count": 45,
     "metadata": {},
     "output_type": "execute_result"
    }
   ],
   "source": [
    "play_game_and_get_score()"
   ]
  },
  {
   "cell_type": "markdown",
   "metadata": {},
   "source": [
    "## Analyzing the Results\n",
    "\n",
    "- it looks like you have on average about a 9% chance to win this game"
   ]
  },
  {
   "cell_type": "code",
   "execution_count": 36,
   "metadata": {
    "ExecuteTime": {
     "end_time": "2020-07-06T20:57:31.037065Z",
     "start_time": "2020-07-06T20:57:31.030527Z"
    }
   },
   "outputs": [],
   "source": [
    "def simulate_n_games(n):\n",
    "    \n",
    "    '''Returns a table of the amount of wins and losses after n games'''\n",
    "    \n",
    "    results = make_array()\n",
    "    for i in np.arange(n):\n",
    "        result = get_result()\n",
    "        results = np.append(results, result)\n",
    "\n",
    "    result_table = Table().with_columns('Wins',np.count_nonzero(results == 'Win'),'Losses',np.count_nonzero(results == 'Lose'))\n",
    "    \n",
    "    return result_table"
   ]
  },
  {
   "cell_type": "code",
   "execution_count": 43,
   "metadata": {
    "ExecuteTime": {
     "end_time": "2020-07-06T20:59:05.996793Z",
     "start_time": "2020-07-06T20:59:05.990164Z"
    }
   },
   "outputs": [],
   "source": [
    "def simulate_n_scores(n):\n",
    "    \n",
    "    '''Returns a table of the amount of games that ended in each score after n games, the average score, and a plot'''\n",
    "    \n",
    "    scores = make_array()\n",
    "    \n",
    "    for i in np.arange(n):\n",
    "        score = get_score()\n",
    "        scores = np.append(scores, score)\n",
    "        \n",
    "    score_table = Table().with_column('Score',scores).group('Score')\n",
    "    score_average = np.mean(scores)\n",
    "    score_plot = score_table.plot('Score')\n",
    "    \n",
    "    return score_table, score_average, score_plot"
   ]
  },
  {
   "cell_type": "code",
   "execution_count": 41,
   "metadata": {
    "ExecuteTime": {
     "end_time": "2020-07-06T20:58:07.010017Z",
     "start_time": "2020-07-06T20:58:03.513414Z"
    }
   },
   "outputs": [
    {
     "data": {
      "text/html": [
       "<table border=\"1\" class=\"dataframe\">\n",
       "    <thead>\n",
       "        <tr>\n",
       "            <th>Wins</th> <th>Losses</th>\n",
       "        </tr>\n",
       "    </thead>\n",
       "    <tbody>\n",
       "        <tr>\n",
       "            <td>913 </td> <td>9087  </td>\n",
       "        </tr>\n",
       "    </tbody>\n",
       "</table>"
      ],
      "text/plain": [
       "Wins | Losses\n",
       "913  | 9087"
      ]
     },
     "execution_count": 41,
     "metadata": {},
     "output_type": "execute_result"
    }
   ],
   "source": [
    "simulate_n_games(10000)"
   ]
  },
  {
   "cell_type": "code",
   "execution_count": 42,
   "metadata": {
    "ExecuteTime": {
     "end_time": "2020-07-06T20:58:09.787438Z",
     "start_time": "2020-07-06T20:58:07.271692Z"
    }
   },
   "outputs": [
    {
     "data": {
      "text/plain": [
       "(Score | count\n",
       " 0     | 898\n",
       " 1     | 214\n",
       " 2     | 259\n",
       " 3     | 339\n",
       " 4     | 347\n",
       " 5     | 349\n",
       " 6     | 313\n",
       " 7     | 428\n",
       " 8     | 492\n",
       " 9     | 512\n",
       " ... (32 rows omitted), 11.7053, None)"
      ]
     },
     "execution_count": 42,
     "metadata": {},
     "output_type": "execute_result"
    },
    {
     "data": {
      "image/png": "[encoded data removed]",
      "text/plain": [
       "<Figure size 432x288 with 1 Axes>"
      ]
     },
     "metadata": {},
     "output_type": "display_data"
    }
   ],
   "source": [
    "simulate_n_scores(10000)"
   ]
  },
  {
   "cell_type": "code",
   "execution_count": 71,
   "metadata": {
    "ExecuteTime": {
     "end_time": "2020-07-06T21:07:48.330552Z",
     "start_time": "2020-07-06T21:07:48.323903Z"
    }
   },
   "outputs": [],
   "source": [
    "def simulate_n_games_k_times(n,k):\n",
    "    \n",
    "    '''Simulates a set of n games k amount of times'''\n",
    "    \n",
    "    results = make_array()\n",
    "    for i in np.arange(k):\n",
    "        result = simulate_n_games(n)[0] / n\n",
    "        results = np.append(results, result)\n",
    "\n",
    "    result_table = Table().with_column('Wins',results)\n",
    "    \n",
    "    return result_table.hist(0)"
   ]
  },
  {
   "cell_type": "code",
   "execution_count": 75,
   "metadata": {
    "ExecuteTime": {
     "end_time": "2020-07-06T21:10:48.900843Z",
     "start_time": "2020-07-06T21:10:26.231948Z"
    }
   },
   "outputs": [
    {
     "data": {
      "image/png": "[encoded data removed]",
      "text/plain": [
       "<Figure size 432x288 with 1 Axes>"
      ]
     },
     "metadata": {},
     "output_type": "display_data"
    }
   ],
   "source": [
    "simulate_n_games_k_times(1000,100)"
   ]
  },
  {
   "cell_type": "markdown",
   "metadata": {},
   "source": [
    "## Making a Payoff Schedule\n",
    "\n",
    "- This game was often played for money\n",
    "- Here's a simple payoff schedule good for a casino because everyone loses in the long run\n",
    "\n",
    "- If you \"shut the box\" and win, you get 100 dollars\n",
    "- If you lose, you only lose 10 dollars"
   ]
  },
  {
   "cell_type": "code",
   "execution_count": 77,
   "metadata": {
    "ExecuteTime": {
     "end_time": "2020-07-06T21:12:28.476887Z",
     "start_time": "2020-07-06T21:12:28.469912Z"
    }
   },
   "outputs": [],
   "source": [
    "def payoff(n):\n",
    "    \n",
    "    '''Calculates the payoff after n games'''\n",
    "    \n",
    "    results = make_array()\n",
    "    \n",
    "    for i in np.arange(n):\n",
    "        result = get_result()\n",
    "        results = np.append(results, result)\n",
    "    \n",
    "    money = np.count_nonzero(results == 'Win')*100 + np.count_nonzero(results == 'Lose')*-10\n",
    "    \n",
    "    return money"
   ]
  },
  {
   "cell_type": "code",
   "execution_count": 78,
   "metadata": {
    "ExecuteTime": {
     "end_time": "2020-07-06T21:12:30.074492Z",
     "start_time": "2020-07-06T21:12:30.067650Z"
    }
   },
   "outputs": [],
   "source": [
    "def payoff_dist(n,reps):\n",
    "    \n",
    "    profits = make_array()\n",
    "    \n",
    "    for i in np.arange(reps):\n",
    "        profit = payoff(n)\n",
    "        profits = np.append(profits, profit)\n",
    "    \n",
    "    average_profit = np.mean(profits)\n",
    "    profit_table = Table().with_column('Profits',profits).hist('Profits')\n",
    "    \n",
    "    return average_profit, profit_table"
   ]
  },
  {
   "cell_type": "code",
   "execution_count": 79,
   "metadata": {
    "ExecuteTime": {
     "end_time": "2020-07-06T21:12:31.002830Z",
     "start_time": "2020-07-06T21:12:30.774279Z"
    }
   },
   "outputs": [
    {
     "data": {
      "text/plain": [
       "-540"
      ]
     },
     "execution_count": 79,
     "metadata": {},
     "output_type": "execute_result"
    }
   ],
   "source": [
    "payoff(1000)"
   ]
  },
  {
   "cell_type": "code",
   "execution_count": 81,
   "metadata": {
    "ExecuteTime": {
     "end_time": "2020-07-06T21:15:46.612705Z",
     "start_time": "2020-07-06T21:12:38.347841Z"
    }
   },
   "outputs": [
    {
     "data": {
      "text/plain": [
       "(-330.34, None)"
      ]
     },
     "execution_count": 81,
     "metadata": {},
     "output_type": "execute_result"
    },
    {
     "data": {
      "image/png": "[encoded data removed]",
      "text/plain": [
       "<Figure size 432x288 with 1 Axes>"
      ]
     },
     "metadata": {},
     "output_type": "display_data"
    }
   ],
   "source": [
    "payoff_dist(1000,1000)"
   ]
  },
  {
   "cell_type": "markdown",
   "metadata": {},
   "source": [
    "## Extra Findings"
   ]
  },
  {
   "cell_type": "code",
   "execution_count": 88,
   "metadata": {
    "ExecuteTime": {
     "end_time": "2020-07-06T21:28:13.768857Z",
     "start_time": "2020-07-06T21:28:13.752031Z"
    }
   },
   "outputs": [],
   "source": [
    "def play_game_and_get_board():\n",
    "    \n",
    "    '''Returns remaining board at the end'''\n",
    "    \n",
    "    box = [1,2,3,4,5,6,7,8,9]\n",
    "    \n",
    "    first_roll = best_roll(box)\n",
    "    #print(first_roll)\n",
    "    \n",
    "    second_roll = best_roll(first_roll)\n",
    "    #print(second_roll)\n",
    "    \n",
    "    if second_roll == 'Lose':\n",
    "        return first_roll\n",
    "    elif second_roll == 'Win':\n",
    "        return []\n",
    "    else:\n",
    "        third_roll = best_roll(second_roll)\n",
    "        #print(third_roll)\n",
    "    \n",
    "        if third_roll == 'Lose':\n",
    "            return second_roll\n",
    "        elif third_roll == 'Win':\n",
    "            return []\n",
    "        else:\n",
    "            fourth_roll = best_roll(third_roll)\n",
    "            #print(fourth_roll)\n",
    "        \n",
    "            if fourth_roll == 'Lose':\n",
    "                return third_roll\n",
    "            elif fourth_roll == 'Win':\n",
    "                return []\n",
    "            else:\n",
    "                fifth_roll = best_roll(fourth_roll)\n",
    "                #print(fifth_roll)\n",
    "        \n",
    "                if fifth_roll == 'Lose':\n",
    "                    return fourth_roll\n",
    "                elif fifth_roll == 'Win':\n",
    "                    return []\n",
    "                else:\n",
    "                    sixth_roll = best_roll(fifth_roll)\n",
    "                    #print(sixth_roll)\n",
    "        \n",
    "                    if sixth_roll == 'Lose':\n",
    "                        return fifth_roll\n",
    "                    elif sixth_roll == 'Win':\n",
    "                        return []\n",
    "                    else:\n",
    "                        seventh_roll = best_roll(sixth_roll)\n",
    "                        #print(seventh_roll)\n",
    "                \n",
    "                        if seventh_roll == 'Lose':\n",
    "                            return sixth_roll\n",
    "                        elif seventh_roll == 'Win':\n",
    "                            return []\n",
    "                        else: \n",
    "                            eighth_roll = best_roll(seventh_roll)\n",
    "                            #print(eighth_roll)\n",
    "                        \n",
    "                            if eighth_roll == 'Lose':\n",
    "                                return seventh_roll\n",
    "                            elif eighth_roll == 'Win':\n",
    "                                return []\n",
    "                            else:\n",
    "                                ninth_roll = best_roll(eighth_roll)\n",
    "                                #print(ninth_roll)\n",
    "                                \n",
    "                                if ninth_roll == 'Lose':\n",
    "                                    return eighth_roll\n",
    "                                elif ninth_roll == 'Win':\n",
    "                                    return []"
   ]
  },
  {
   "cell_type": "code",
   "execution_count": 89,
   "metadata": {
    "ExecuteTime": {
     "end_time": "2020-07-06T21:28:14.154942Z",
     "start_time": "2020-07-06T21:28:14.148166Z"
    }
   },
   "outputs": [
    {
     "data": {
      "text/plain": [
       "[5, 8]"
      ]
     },
     "execution_count": 89,
     "metadata": {},
     "output_type": "execute_result"
    }
   ],
   "source": [
    "play_game_and_get_board()"
   ]
  },
  {
   "cell_type": "code",
   "execution_count": 96,
   "metadata": {
    "ExecuteTime": {
     "end_time": "2020-07-06T21:29:59.363945Z",
     "start_time": "2020-07-06T21:29:59.356602Z"
    }
   },
   "outputs": [],
   "source": [
    "def board_dist(reps):\n",
    "    \n",
    "    '''Returns the distribution of the numbers remaining at the end of n games'''\n",
    "    \n",
    "    boards = []\n",
    "    \n",
    "    for i in np.arange(reps):\n",
    "        board = play_game_and_get_board()\n",
    "        boards += board\n",
    "        \n",
    "    board_table = Table().with_column('Number',boards) \n",
    "        \n",
    "    return board_table.group(0)"
   ]
  },
  {
   "cell_type": "code",
   "execution_count": 97,
   "metadata": {
    "ExecuteTime": {
     "end_time": "2020-07-06T21:30:05.329073Z",
     "start_time": "2020-07-06T21:30:05.290879Z"
    }
   },
   "outputs": [
    {
     "data": {
      "text/html": [
       "<table border=\"1\" class=\"dataframe\">\n",
       "    <thead>\n",
       "        <tr>\n",
       "            <th>Number</th> <th>count</th>\n",
       "        </tr>\n",
       "    </thead>\n",
       "    <tbody>\n",
       "        <tr>\n",
       "            <td>1     </td> <td>17   </td>\n",
       "        </tr>\n",
       "        <tr>\n",
       "            <td>2     </td> <td>30   </td>\n",
       "        </tr>\n",
       "        <tr>\n",
       "            <td>3     </td> <td>27   </td>\n",
       "        </tr>\n",
       "        <tr>\n",
       "            <td>4     </td> <td>39   </td>\n",
       "        </tr>\n",
       "        <tr>\n",
       "            <td>5     </td> <td>27   </td>\n",
       "        </tr>\n",
       "        <tr>\n",
       "            <td>6     </td> <td>26   </td>\n",
       "        </tr>\n",
       "        <tr>\n",
       "            <td>7     </td> <td>28   </td>\n",
       "        </tr>\n",
       "        <tr>\n",
       "            <td>8     </td> <td>24   </td>\n",
       "        </tr>\n",
       "        <tr>\n",
       "            <td>9     </td> <td>18   </td>\n",
       "        </tr>\n",
       "    </tbody>\n",
       "</table>"
      ],
      "text/plain": [
       "Number | count\n",
       "1      | 17\n",
       "2      | 30\n",
       "3      | 27\n",
       "4      | 39\n",
       "5      | 27\n",
       "6      | 26\n",
       "7      | 28\n",
       "8      | 24\n",
       "9      | 18"
      ]
     },
     "execution_count": 97,
     "metadata": {},
     "output_type": "execute_result"
    }
   ],
   "source": [
    "board_dist(100)"
   ]
  },
  {
   "cell_type": "code",
   "execution_count": 99,
   "metadata": {
    "ExecuteTime": {
     "end_time": "2020-07-06T21:30:53.286245Z",
     "start_time": "2020-07-06T21:30:51.241263Z"
    }
   },
   "outputs": [
    {
     "data": {
      "image/png": "[encoded data removed]",
      "text/plain": [
       "<Figure size 432x288 with 1 Axes>"
      ]
     },
     "metadata": {},
     "output_type": "display_data"
    }
   ],
   "source": [
    "# PLOT THE DISTRIBUTION TO NOTICE TRENDS\n",
    "\n",
    "board_dist(10000).bar('Number','count')"
   ]
  },
  {
   "cell_type": "markdown",
   "metadata": {},
   "source": [
    "It looks like **3** is the *most* common number to be left on the board. **7** is the *least* common number left."
   ]
  }
 ],
 "metadata": {
  "kernelspec": {
   "display_name": "Python 3",
   "language": "python",
   "name": "python3"
  },
  "language_info": {
   "codemirror_mode": {
    "name": "ipython",
    "version": 3
   },
   "file_extension": ".py",
   "mimetype": "text/x-python",
   "name": "python",
   "nbconvert_exporter": "python",
   "pygments_lexer": "ipython3",
   "version": "3.7.4"
  },
  "toc": {
   "base_numbering": 1,
   "nav_menu": {},
   "number_sections": false,
   "sideBar": true,
   "skip_h1_title": false,
   "title_cell": "Table of Contents",
   "title_sidebar": "Contents",
   "toc_cell": false,
   "toc_position": {},
   "toc_section_display": true,
   "toc_window_display": true
  }
 },
 "nbformat": 4,
 "nbformat_minor": 2
}
